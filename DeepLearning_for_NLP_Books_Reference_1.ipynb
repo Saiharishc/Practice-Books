{
 "cells": [
  {
   "cell_type": "markdown",
   "metadata": {},
   "source": [
    "***Pandas is an open sourced software library.\n",
    "Dataframes and Series are two of its major data structures that are widely used\n",
    "for data analysis purposes.\n",
    "Series is an one dimensional indexed array.\n",
    "DataFrame is tabular data structure with column and row-level indexes.\n",
    "Pandas is a great tool for preprocessing datasets and offers highly optimized performance***"
   ]
  },
  {
   "cell_type": "code",
   "execution_count": 1,
   "metadata": {},
   "outputs": [],
   "source": [
    "import pandas as pd"
   ]
  },
  {
   "cell_type": "code",
   "execution_count": 2,
   "metadata": {},
   "outputs": [
    {
     "name": "stdout",
     "output_type": "stream",
     "text": [
      "0    2\n",
      "1    9\n",
      "2    0\n",
      "3    1\n",
      "dtype: int64\n"
     ]
    }
   ],
   "source": [
    "s1 = pd.Series([2,9,0,1]) #creating series object\n",
    "print(s1)"
   ]
  },
  {
   "cell_type": "code",
   "execution_count": 3,
   "metadata": {},
   "outputs": [
    {
     "name": "stdout",
     "output_type": "stream",
     "text": [
      "[2 9 0 1]\n"
     ]
    }
   ],
   "source": [
    "print(s1.values)"
   ]
  },
  {
   "cell_type": "code",
   "execution_count": 4,
   "metadata": {},
   "outputs": [
    {
     "data": {
      "text/plain": [
       "RangeIndex(start=0, stop=4, step=1)"
      ]
     },
     "execution_count": 4,
     "metadata": {},
     "output_type": "execute_result"
    }
   ],
   "source": [
    "s1.index"
   ]
  },
  {
   "cell_type": "code",
   "execution_count": 7,
   "metadata": {},
   "outputs": [
    {
     "name": "stdout",
     "output_type": "stream",
     "text": [
      "a    2\n",
      "b    9\n",
      "c    0\n",
      "d    1\n",
      "dtype: int64\n"
     ]
    }
   ],
   "source": [
    "s1.index = ['a','b','c','d']\n",
    "print(s1)"
   ]
  },
  {
   "cell_type": "code",
   "execution_count": 8,
   "metadata": {},
   "outputs": [
    {
     "data": {
      "text/plain": [
       "1"
      ]
     },
     "execution_count": 8,
     "metadata": {},
     "output_type": "execute_result"
    }
   ],
   "source": [
    "s1['d']"
   ]
  },
  {
   "cell_type": "code",
   "execution_count": null,
   "metadata": {},
   "outputs": [],
   "source": []
  },
  {
   "cell_type": "code",
   "execution_count": 16,
   "metadata": {},
   "outputs": [
    {
     "name": "stdout",
     "output_type": "stream",
     "text": [
      "         Names  Standard  SUB\n",
      "Student1  John         7  Eng\n",
      "Student2  Ryan         5  Mat\n",
      "Student3   Sai         8  Sci\n"
     ]
    }
   ],
   "source": [
    "#Creating DataFrame using pandas\n",
    "class_data = {'Names':['John','Ryan','Sai'],'Standard':[7,5,8],\n",
    "         'SUB':['Eng','Mat','Sci']}\n",
    "\n",
    "class_df = pd.DataFrame(class_data,index=['Student1','Student2','Student3'],\n",
    "columns=['Names','Standard','SUB'])\n",
    "\n",
    "print(class_df)"
   ]
  },
  {
   "cell_type": "code",
   "execution_count": 17,
   "metadata": {},
   "outputs": [
    {
     "data": {
      "text/plain": [
       "Student1    John\n",
       "Student2    Ryan\n",
       "Student3     Sai\n",
       "Name: Names, dtype: object"
      ]
     },
     "execution_count": 17,
     "metadata": {},
     "output_type": "execute_result"
    }
   ],
   "source": [
    "class_df.Names"
   ]
  },
  {
   "cell_type": "code",
   "execution_count": 19,
   "metadata": {},
   "outputs": [],
   "source": [
    "import numpy as np"
   ]
  },
  {
   "cell_type": "code",
   "execution_count": 22,
   "metadata": {},
   "outputs": [],
   "source": [
    "class_df.loc['Student4'] =['Robin',np.nan,'History']"
   ]
  },
  {
   "cell_type": "code",
   "execution_count": 23,
   "metadata": {},
   "outputs": [
    {
     "data": {
      "text/html": [
       "<div>\n",
       "<style scoped>\n",
       "    .dataframe tbody tr th:only-of-type {\n",
       "        vertical-align: middle;\n",
       "    }\n",
       "\n",
       "    .dataframe tbody tr th {\n",
       "        vertical-align: top;\n",
       "    }\n",
       "\n",
       "    .dataframe thead th {\n",
       "        text-align: right;\n",
       "    }\n",
       "</style>\n",
       "<table border=\"1\" class=\"dataframe\">\n",
       "  <thead>\n",
       "    <tr style=\"text-align: right;\">\n",
       "      <th></th>\n",
       "      <th>Names</th>\n",
       "      <th>Standard</th>\n",
       "      <th>SUB</th>\n",
       "    </tr>\n",
       "  </thead>\n",
       "  <tbody>\n",
       "    <tr>\n",
       "      <th>Student1</th>\n",
       "      <td>John</td>\n",
       "      <td>7.0</td>\n",
       "      <td>Eng</td>\n",
       "    </tr>\n",
       "    <tr>\n",
       "      <th>Student2</th>\n",
       "      <td>Ryan</td>\n",
       "      <td>5.0</td>\n",
       "      <td>Mat</td>\n",
       "    </tr>\n",
       "    <tr>\n",
       "      <th>Student3</th>\n",
       "      <td>Sai</td>\n",
       "      <td>8.0</td>\n",
       "      <td>Sci</td>\n",
       "    </tr>\n",
       "    <tr>\n",
       "      <th>Student4</th>\n",
       "      <td>Robin</td>\n",
       "      <td>NaN</td>\n",
       "      <td>History</td>\n",
       "    </tr>\n",
       "  </tbody>\n",
       "</table>\n",
       "</div>"
      ],
      "text/plain": [
       "          Names  Standard      SUB\n",
       "Student1   John       7.0      Eng\n",
       "Student2   Ryan       5.0      Mat\n",
       "Student3    Sai       8.0      Sci\n",
       "Student4  Robin       NaN  History"
      ]
     },
     "execution_count": 23,
     "metadata": {},
     "output_type": "execute_result"
    }
   ],
   "source": [
    "class_df"
   ]
  },
  {
   "cell_type": "code",
   "execution_count": 24,
   "metadata": {},
   "outputs": [
    {
     "data": {
      "text/html": [
       "<div>\n",
       "<style scoped>\n",
       "    .dataframe tbody tr th:only-of-type {\n",
       "        vertical-align: middle;\n",
       "    }\n",
       "\n",
       "    .dataframe tbody tr th {\n",
       "        vertical-align: top;\n",
       "    }\n",
       "\n",
       "    .dataframe thead th {\n",
       "        text-align: right;\n",
       "    }\n",
       "</style>\n",
       "<table border=\"1\" class=\"dataframe\">\n",
       "  <thead>\n",
       "    <tr style=\"text-align: right;\">\n",
       "      <th></th>\n",
       "      <th>Student1</th>\n",
       "      <th>Student2</th>\n",
       "      <th>Student3</th>\n",
       "      <th>Student4</th>\n",
       "    </tr>\n",
       "  </thead>\n",
       "  <tbody>\n",
       "    <tr>\n",
       "      <th>Names</th>\n",
       "      <td>John</td>\n",
       "      <td>Ryan</td>\n",
       "      <td>Sai</td>\n",
       "      <td>Robin</td>\n",
       "    </tr>\n",
       "    <tr>\n",
       "      <th>Standard</th>\n",
       "      <td>7</td>\n",
       "      <td>5</td>\n",
       "      <td>8</td>\n",
       "      <td>NaN</td>\n",
       "    </tr>\n",
       "    <tr>\n",
       "      <th>SUB</th>\n",
       "      <td>Eng</td>\n",
       "      <td>Mat</td>\n",
       "      <td>Sci</td>\n",
       "      <td>History</td>\n",
       "    </tr>\n",
       "  </tbody>\n",
       "</table>\n",
       "</div>"
      ],
      "text/plain": [
       "         Student1 Student2 Student3 Student4\n",
       "Names        John     Ryan      Sai    Robin\n",
       "Standard        7        5        8      NaN\n",
       "SUB           Eng      Mat      Sci  History"
      ]
     },
     "execution_count": 24,
     "metadata": {},
     "output_type": "execute_result"
    }
   ],
   "source": [
    "class_df.T"
   ]
  },
  {
   "cell_type": "code",
   "execution_count": 25,
   "metadata": {},
   "outputs": [
    {
     "data": {
      "text/html": [
       "<div>\n",
       "<style scoped>\n",
       "    .dataframe tbody tr th:only-of-type {\n",
       "        vertical-align: middle;\n",
       "    }\n",
       "\n",
       "    .dataframe tbody tr th {\n",
       "        vertical-align: top;\n",
       "    }\n",
       "\n",
       "    .dataframe thead th {\n",
       "        text-align: right;\n",
       "    }\n",
       "</style>\n",
       "<table border=\"1\" class=\"dataframe\">\n",
       "  <thead>\n",
       "    <tr style=\"text-align: right;\">\n",
       "      <th></th>\n",
       "      <th>Names</th>\n",
       "      <th>Standard</th>\n",
       "      <th>SUB</th>\n",
       "    </tr>\n",
       "  </thead>\n",
       "  <tbody>\n",
       "    <tr>\n",
       "      <th>Student2</th>\n",
       "      <td>Ryan</td>\n",
       "      <td>5.0</td>\n",
       "      <td>Mat</td>\n",
       "    </tr>\n",
       "    <tr>\n",
       "      <th>Student1</th>\n",
       "      <td>John</td>\n",
       "      <td>7.0</td>\n",
       "      <td>Eng</td>\n",
       "    </tr>\n",
       "    <tr>\n",
       "      <th>Student3</th>\n",
       "      <td>Sai</td>\n",
       "      <td>8.0</td>\n",
       "      <td>Sci</td>\n",
       "    </tr>\n",
       "    <tr>\n",
       "      <th>Student4</th>\n",
       "      <td>Robin</td>\n",
       "      <td>NaN</td>\n",
       "      <td>History</td>\n",
       "    </tr>\n",
       "  </tbody>\n",
       "</table>\n",
       "</div>"
      ],
      "text/plain": [
       "          Names  Standard      SUB\n",
       "Student2   Ryan       5.0      Mat\n",
       "Student1   John       7.0      Eng\n",
       "Student3    Sai       8.0      Sci\n",
       "Student4  Robin       NaN  History"
      ]
     },
     "execution_count": 25,
     "metadata": {},
     "output_type": "execute_result"
    }
   ],
   "source": [
    "class_df.sort_values(by='Standard')"
   ]
  },
  {
   "cell_type": "code",
   "execution_count": 38,
   "metadata": {},
   "outputs": [],
   "source": [
    "cla = pd.Series(['A','B','A+','C'],index=['Student1','Student2','Student3','Student4'])\n",
    "class_df['Grade']=cla"
   ]
  },
  {
   "cell_type": "code",
   "execution_count": 39,
   "metadata": {},
   "outputs": [
    {
     "name": "stdout",
     "output_type": "stream",
     "text": [
      "          Names  Standard      SUB Grade\n",
      "Student1   John       7.0      Eng     A\n",
      "Student2   Ryan       5.0      Mat     B\n",
      "Student3    Sai       8.0      Sci    A+\n",
      "Student4  Robin       NaN  History     C\n"
     ]
    }
   ],
   "source": [
    "print(class_df)"
   ]
  },
  {
   "cell_type": "code",
   "execution_count": 40,
   "metadata": {},
   "outputs": [
    {
     "data": {
      "text/plain": [
       "Student1     A\n",
       "Student2     B\n",
       "Student3    A+\n",
       "Student4     C\n",
       "dtype: object"
      ]
     },
     "execution_count": 40,
     "metadata": {},
     "output_type": "execute_result"
    }
   ],
   "source": [
    "#filling missing values\n",
    "cla"
   ]
  },
  {
   "cell_type": "code",
   "execution_count": 42,
   "metadata": {},
   "outputs": [
    {
     "name": "stdout",
     "output_type": "stream",
     "text": [
      "          Names  Standard      SUB Grade\n",
      "Student1   John       7.0      Eng     A\n",
      "Student2   Ryan       5.0      Mat     B\n",
      "Student3    Sai       8.0      Sci    A+\n",
      "Student4  Robin      10.0  History     C\n"
     ]
    }
   ],
   "source": [
    "class_df.fillna(10,inplace=True)\n",
    "print(class_df)"
   ]
  },
  {
   "cell_type": "code",
   "execution_count": 46,
   "metadata": {},
   "outputs": [
    {
     "data": {
      "text/html": [
       "<div>\n",
       "<style scoped>\n",
       "    .dataframe tbody tr th:only-of-type {\n",
       "        vertical-align: middle;\n",
       "    }\n",
       "\n",
       "    .dataframe tbody tr th {\n",
       "        vertical-align: top;\n",
       "    }\n",
       "\n",
       "    .dataframe thead th {\n",
       "        text-align: right;\n",
       "    }\n",
       "</style>\n",
       "<table border=\"1\" class=\"dataframe\">\n",
       "  <thead>\n",
       "    <tr style=\"text-align: right;\">\n",
       "      <th></th>\n",
       "      <th>Age</th>\n",
       "    </tr>\n",
       "  </thead>\n",
       "  <tbody>\n",
       "    <tr>\n",
       "      <th>Student1</th>\n",
       "      <td>20</td>\n",
       "    </tr>\n",
       "    <tr>\n",
       "      <th>Student2</th>\n",
       "      <td>30</td>\n",
       "    </tr>\n",
       "    <tr>\n",
       "      <th>Student3</th>\n",
       "      <td>40</td>\n",
       "    </tr>\n",
       "    <tr>\n",
       "      <th>Student4</th>\n",
       "      <td>50</td>\n",
       "    </tr>\n",
       "  </tbody>\n",
       "</table>\n",
       "</div>"
      ],
      "text/plain": [
       "          Age\n",
       "Student1   20\n",
       "Student2   30\n",
       "Student3   40\n",
       "Student4   50"
      ]
     },
     "execution_count": 46,
     "metadata": {},
     "output_type": "execute_result"
    }
   ],
   "source": [
    "Student_age =pd.DataFrame(data={'Age':[20,30,40,50]},\n",
    "                              index = ['Student1','Student2','Student3','Student4'])\n",
    "\n",
    "Student_age"
   ]
  },
  {
   "cell_type": "code",
   "execution_count": 50,
   "metadata": {},
   "outputs": [
    {
     "name": "stdout",
     "output_type": "stream",
     "text": [
      "          Names  Standard      SUB Grade  Age\n",
      "Student1   John       7.0      Eng     A   20\n",
      "Student2   Ryan       5.0      Mat     B   30\n",
      "Student3    Sai       8.0      Sci    A+   40\n",
      "Student4  Robin      10.0  History     C   50\n"
     ]
    }
   ],
   "source": [
    "class_data = pd.concat([class_df,Student_age],axis=1)\n",
    "print(class_data)"
   ]
  },
  {
   "cell_type": "code",
   "execution_count": 52,
   "metadata": {},
   "outputs": [],
   "source": [
    "class_data['SUB']=class_data['SUB'].map(lambda x:x+'Sub')"
   ]
  },
  {
   "cell_type": "code",
   "execution_count": 54,
   "metadata": {},
   "outputs": [
    {
     "data": {
      "text/html": [
       "<div>\n",
       "<style scoped>\n",
       "    .dataframe tbody tr th:only-of-type {\n",
       "        vertical-align: middle;\n",
       "    }\n",
       "\n",
       "    .dataframe tbody tr th {\n",
       "        vertical-align: top;\n",
       "    }\n",
       "\n",
       "    .dataframe thead th {\n",
       "        text-align: right;\n",
       "    }\n",
       "</style>\n",
       "<table border=\"1\" class=\"dataframe\">\n",
       "  <thead>\n",
       "    <tr style=\"text-align: right;\">\n",
       "      <th></th>\n",
       "      <th>Names</th>\n",
       "      <th>Standard</th>\n",
       "      <th>SUB</th>\n",
       "      <th>Grade</th>\n",
       "      <th>Age</th>\n",
       "    </tr>\n",
       "  </thead>\n",
       "  <tbody>\n",
       "    <tr>\n",
       "      <th>Student1</th>\n",
       "      <td>John</td>\n",
       "      <td>7.0</td>\n",
       "      <td>EngSub</td>\n",
       "      <td>A</td>\n",
       "      <td>20</td>\n",
       "    </tr>\n",
       "    <tr>\n",
       "      <th>Student2</th>\n",
       "      <td>Ryan</td>\n",
       "      <td>5.0</td>\n",
       "      <td>MatSub</td>\n",
       "      <td>B</td>\n",
       "      <td>30</td>\n",
       "    </tr>\n",
       "    <tr>\n",
       "      <th>Student3</th>\n",
       "      <td>Sai</td>\n",
       "      <td>8.0</td>\n",
       "      <td>SciSub</td>\n",
       "      <td>A+</td>\n",
       "      <td>40</td>\n",
       "    </tr>\n",
       "    <tr>\n",
       "      <th>Student4</th>\n",
       "      <td>Robin</td>\n",
       "      <td>10.0</td>\n",
       "      <td>HistorySub</td>\n",
       "      <td>C</td>\n",
       "      <td>50</td>\n",
       "    </tr>\n",
       "  </tbody>\n",
       "</table>\n",
       "</div>"
      ],
      "text/plain": [
       "          Names  Standard         SUB Grade  Age\n",
       "Student1   John       7.0      EngSub     A   20\n",
       "Student2   Ryan       5.0      MatSub     B   30\n",
       "Student3    Sai       8.0      SciSub    A+   40\n",
       "Student4  Robin      10.0  HistorySub     C   50"
      ]
     },
     "execution_count": 54,
     "metadata": {},
     "output_type": "execute_result"
    }
   ],
   "source": [
    "class_data"
   ]
  },
  {
   "cell_type": "code",
   "execution_count": null,
   "metadata": {},
   "outputs": [],
   "source": []
  },
  {
   "cell_type": "code",
   "execution_count": 55,
   "metadata": {},
   "outputs": [
    {
     "name": "stdout",
     "output_type": "stream",
     "text": [
      "Student1    20\n",
      "Student2    30\n",
      "Student3    40\n",
      "Student4    50\n",
      "Name: Age, dtype: int64\n",
      "\n",
      "Student1    21\n",
      "Student2    31\n",
      "Student3    41\n",
      "Student4    51\n",
      "Name: Age, dtype: int64\n"
     ]
    }
   ],
   "source": [
    "def age_add(x):\n",
    "    return x+1\n",
    "print(class_data['Age'])\n",
    "print()\n",
    "print(class_data['Age'].apply(age_add))"
   ]
  },
  {
   "cell_type": "code",
   "execution_count": 58,
   "metadata": {},
   "outputs": [
    {
     "data": {
      "text/plain": [
       "CategoricalDtype(categories=['A', 'A+', 'B', 'C'], ordered=False)"
      ]
     },
     "execution_count": 58,
     "metadata": {},
     "output_type": "execute_result"
    }
   ],
   "source": [
    "class_data['Grade']=class_data['Grade'].astype('category')\n",
    "class_data.Grade.dtypes"
   ]
  },
  {
   "cell_type": "code",
   "execution_count": null,
   "metadata": {},
   "outputs": [],
   "source": []
  }
 ],
 "metadata": {
  "kernelspec": {
   "display_name": "Python 3",
   "language": "python",
   "name": "python3"
  },
  "language_info": {
   "codemirror_mode": {
    "name": "ipython",
    "version": 3
   },
   "file_extension": ".py",
   "mimetype": "text/x-python",
   "name": "python",
   "nbconvert_exporter": "python",
   "pygments_lexer": "ipython3",
   "version": "3.7.3"
  }
 },
 "nbformat": 4,
 "nbformat_minor": 2
}
