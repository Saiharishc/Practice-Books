{
 "cells": [
  {
   "cell_type": "markdown",
   "metadata": {},
   "source": [
    "***SciPy offers complex algorithms and their use as functions in Numpy.\n",
    "This allocates high-level commands and a variety of classes to manipulate and\n",
    "visualize data.\n",
    "SciPy is curated in the form of multiple small packages,with each package \n",
    "targeting individual scientific computing domains.\n",
    "A few of the subpackages are linalg(linear algebra), constants(Physical and mathematical constants)\n",
    "and sparse(sparse matrics and associated routines)\n",
    "Most of NumPy package functions applicable on arrays are also included in SciPy package.\n",
    "SciPy offers pre-tested routines,thereby saving a lot of time in the scientific\n",
    "computing applications.***"
   ]
  },
  {
   "cell_type": "code",
   "execution_count": 1,
   "metadata": {},
   "outputs": [],
   "source": [
    "import scipy\n",
    "import numpy as np"
   ]
  },
  {
   "cell_type": "code",
   "execution_count": 2,
   "metadata": {},
   "outputs": [],
   "source": [
    "from scipy import linalg"
   ]
  },
  {
   "cell_type": "code",
   "execution_count": 3,
   "metadata": {},
   "outputs": [
    {
     "name": "stdout",
     "output_type": "stream",
     "text": [
      "[[ 2  3  1]\n",
      " [ 4  5  6]\n",
      " [10  3  5]]\n"
     ]
    }
   ],
   "source": [
    "m =np.array([[2,3,1],[4,5,6],[10,3,5]]) #matrix creation\n",
    "print(m)"
   ]
  },
  {
   "cell_type": "code",
   "execution_count": 5,
   "metadata": {},
   "outputs": [
    {
     "data": {
      "text/plain": [
       "96.0"
      ]
     },
     "execution_count": 5,
     "metadata": {},
     "output_type": "execute_result"
    }
   ],
   "source": [
    "linalg.det(m) #Determinant of matrix"
   ]
  },
  {
   "cell_type": "code",
   "execution_count": 6,
   "metadata": {},
   "outputs": [
    {
     "name": "stdout",
     "output_type": "stream",
     "text": [
      "[[ 7.29166667e-02 -1.25000000e-01  1.35416667e-01]\n",
      " [ 4.16666667e-01 -1.16865582e-17 -8.33333333e-02]\n",
      " [-3.95833333e-01  2.50000000e-01 -2.08333333e-02]]\n"
     ]
    }
   ],
   "source": [
    "in_m = linalg.inv(m)\n",
    "print(in_m)"
   ]
  },
  {
   "cell_type": "code",
   "execution_count": 7,
   "metadata": {},
   "outputs": [
    {
     "name": "stdout",
     "output_type": "stream",
     "text": [
      "[[-0.22658249 -0.25496637 -0.94002794]\n",
      " [-0.5723741  -0.74603899  0.34031415]\n",
      " [-0.78806616  0.61515687  0.02310323]]\n",
      "[14.33566388  4.10159803  1.6326772 ]\n",
      "[[-0.74104158 -0.41196672 -0.53022713]\n",
      " [ 0.64791331 -0.64599784 -0.40360268]\n",
      " [-0.1762547  -0.64262758  0.74562998]]\n"
     ]
    }
   ],
   "source": [
    "#Singular value decomposition\n",
    "comp1,comp2,comp3 = linalg.svd(m)\n",
    "print(comp1)\n",
    "print(comp2)\n",
    "print(comp3)"
   ]
  },
  {
   "cell_type": "code",
   "execution_count": null,
   "metadata": {},
   "outputs": [],
   "source": [
    "#Generating a random sample of size 20 from normal distribution with mean3 and SD5"
   ]
  },
  {
   "cell_type": "code",
   "execution_count": 8,
   "metadata": {},
   "outputs": [
    {
     "name": "stdout",
     "output_type": "stream",
     "text": [
      "[ 3.68012844 -2.11578097 -0.14833899  8.97321642  3.61325538  0.78280377\n",
      "  4.79947756  9.26687407 -0.84730419  0.26303696  1.20699865 -2.8803705\n",
      "  4.70273674  8.96659278 -1.77273477  2.93380483  1.78988867  5.17118594\n",
      "  0.16701477  2.60397292]\n"
     ]
    }
   ],
   "source": [
    "from scipy import stats\n",
    "rvs_20 = stats.norm.rvs(3,5,size=20)\n",
    "print(rvs_20)"
   ]
  },
  {
   "cell_type": "code",
   "execution_count": 9,
   "metadata": {},
   "outputs": [],
   "source": [
    "#Computing CDF of Beta distribution with a=100,b=130 as shape parameters at randomvarible 0.41"
   ]
  },
  {
   "cell_type": "code",
   "execution_count": 10,
   "metadata": {},
   "outputs": [
    {
     "name": "stdout",
     "output_type": "stream",
     "text": [
      "0.22500957436155394\n"
     ]
    }
   ],
   "source": [
    "cdf_=scipy.stats.beta.cdf(0.41,a=100,b=130)\n",
    "print(cdf_)"
   ]
  },
  {
   "cell_type": "code",
   "execution_count": null,
   "metadata": {},
   "outputs": [],
   "source": []
  }
 ],
 "metadata": {
  "kernelspec": {
   "display_name": "Python 3",
   "language": "python",
   "name": "python3"
  },
  "language_info": {
   "codemirror_mode": {
    "name": "ipython",
    "version": 3
   },
   "file_extension": ".py",
   "mimetype": "text/x-python",
   "name": "python",
   "nbconvert_exporter": "python",
   "pygments_lexer": "ipython3",
   "version": "3.7.3"
  }
 },
 "nbformat": 4,
 "nbformat_minor": 2
}
